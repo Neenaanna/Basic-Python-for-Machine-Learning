{
  "nbformat": 4,
  "nbformat_minor": 0,
  "metadata": {
    "colab": {
      "provenance": [],
      "authorship_tag": "ABX9TyOUGv49WERMt2n6kkKkzVJl",
      "include_colab_link": true
    },
    "kernelspec": {
      "name": "python3",
      "display_name": "Python 3"
    },
    "language_info": {
      "name": "python"
    }
  },
  "cells": [
    {
      "cell_type": "markdown",
      "metadata": {
        "id": "view-in-github",
        "colab_type": "text"
      },
      "source": [
        "<a href=\"https://colab.research.google.com/github/Neenaanna/Basic-Python-for-Machine-Learning/blob/main/calc.ipynb\" target=\"_parent\"><img src=\"https://colab.research.google.com/assets/colab-badge.svg\" alt=\"Open In Colab\"/></a>"
      ]
    },
    {
      "cell_type": "code",
      "execution_count": null,
      "metadata": {
        "id": "sLxbNge5BdcK"
      },
      "outputs": [],
      "source": []
    },
    {
      "cell_type": "markdown",
      "source": [
        "Introduction to `Python`\n"
      ],
      "metadata": {
        "id": "s0aLPXpLBeZQ"
      }
    },
    {
      "cell_type": "code",
      "source": [
        "print(\"Neena\")"
      ],
      "metadata": {
        "colab": {
          "base_uri": "https://localhost:8080/"
        },
        "id": "R9UwPCJ-Brxl",
        "outputId": "2e65b4a9-4ce4-4fba-9707-f3786b953a7c"
      },
      "execution_count": 1,
      "outputs": [
        {
          "output_type": "stream",
          "name": "stdout",
          "text": [
            "Neena\n"
          ]
        }
      ]
    },
    {
      "cell_type": "code",
      "source": [
        "print(\"Mini Calculator\")\n",
        "num1 = float (input(\"Enter the first number \"))\n",
        "num2 = float(input(\"Enter the second number \"))\n",
        "print(\"Press 1 for Addition\\n Press 2 for Subtraction\\n Press 3 for Multiplication\\n Press 4 for Division\" )\n",
        "choice=  int (input(\"Enter your Choice\"))\n",
        "if choice==1:\n",
        "  print(\"The sum of the given two numbers is\",num1+num2)\n",
        "elif choice==2:\n",
        "  print(\"The difference of the two given number is\",num1 - num2)\n",
        "elif choice == 3:\n",
        "  print(\"The product of the given two numbers is\", num1*num2)\n",
        "elif choice==4:\n",
        "    print(\"The quotient of the given two  numbers is \",num1/num2)\n",
        "else :\n",
        "   print(\"Invalid Input\")\n"
      ],
      "metadata": {
        "colab": {
          "base_uri": "https://localhost:8080/"
        },
        "id": "pBWFt6e0DsT0",
        "outputId": "ce2c7d14-40fc-41d2-c17e-b1221764d506"
      },
      "execution_count": 14,
      "outputs": [
        {
          "output_type": "stream",
          "name": "stdout",
          "text": [
            "Mini Calculator\n",
            "Enter the first number 12\n",
            "Enter the second number 8\n",
            "Press 1 for Addition\n",
            " Press 2 for Subtraction\n",
            " Press 3 for Multiplication\n",
            " Press 4 for Division\n",
            "Enter your Choice8\n",
            "Invalid Input\n"
          ]
        }
      ]
    }
  ]
}